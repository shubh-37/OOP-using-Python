{
 "cells": [
  {
   "cell_type": "code",
   "execution_count": 5,
   "id": "42812c63",
   "metadata": {},
   "outputs": [],
   "source": [
    "class Dog():\n",
    "    species = \"mammal\"\n",
    "    def __init__(self, breed,name, spots):\n",
    "        self.name = name\n",
    "        self.breed = breed\n",
    "        self.spots = spots\n",
    "    def bark(self, number):\n",
    "        print(f'Woof! my name is {self.name} and my number is {number}') \n",
    "             #Notice how we have used self in name and not number cause its been provided in the method\n",
    "             #Another reason for not using self in number is because it is not an instance of the class but provided by the user"
   ]
  },
  {
   "cell_type": "code",
   "execution_count": 6,
   "id": "36d9c3a6",
   "metadata": {},
   "outputs": [],
   "source": [
    "my_dog = Dog('Husky', 'Shadow', False)"
   ]
  },
  {
   "cell_type": "code",
   "execution_count": 7,
   "id": "1f79cac3",
   "metadata": {},
   "outputs": [
    {
     "data": {
      "text/plain": [
       "'Shadow'"
      ]
     },
     "execution_count": 7,
     "metadata": {},
     "output_type": "execute_result"
    }
   ],
   "source": [
    "my_dog.name\n"
   ]
  },
  {
   "cell_type": "code",
   "execution_count": 8,
   "id": "93e76083",
   "metadata": {},
   "outputs": [
    {
     "name": "stdout",
     "output_type": "stream",
     "text": [
      "Woof! my name is Shadow and my number is 9999999\n"
     ]
    }
   ],
   "source": [
    "my_dog.bark(9999999)"
   ]
  },
  {
   "cell_type": "code",
   "execution_count": 9,
   "id": "0ad34e99",
   "metadata": {},
   "outputs": [],
   "source": [
    "#INHERITANCE USING PYTHON"
   ]
  },
  {
   "cell_type": "code",
   "execution_count": 10,
   "id": "ade925b4",
   "metadata": {},
   "outputs": [],
   "source": [
    "#BAse class\n",
    "class Animal():\n",
    "    def __init__(self):\n",
    "        print(\"ANIMAL CREATED\")\n",
    "    def who_am_i(self):\n",
    "        print(\"Im an animal\")\n",
    "    def eat(self):\n",
    "        print(\"I am eating what animals eat\")\n",
    "        "
   ]
  },
  {
   "cell_type": "code",
   "execution_count": 11,
   "id": "9f6cc9b5",
   "metadata": {},
   "outputs": [
    {
     "name": "stdout",
     "output_type": "stream",
     "text": [
      "ANIMAL CREATED\n"
     ]
    }
   ],
   "source": [
    "myanimal = Animal()"
   ]
  },
  {
   "cell_type": "code",
   "execution_count": 18,
   "id": "a02cdbe6",
   "metadata": {},
   "outputs": [],
   "source": [
    "#Child Class\n",
    "class Dog(Animal): #this is how you inherit a base class\n",
    "    def __init__(self):\n",
    "        Animal.__init__(self) #this is how you class the constructor of the base class\n",
    "        print(\"A dog is created\")\n",
    "    def eat(self):\n",
    "        print(\"I am a dog and im eating pedigree\")\n",
    "    def bark(self):\n",
    "        print(\"I WOOOF!\")"
   ]
  },
  {
   "cell_type": "code",
   "execution_count": 20,
   "id": "87c1e91d",
   "metadata": {},
   "outputs": [
    {
     "name": "stdout",
     "output_type": "stream",
     "text": [
      "ANIMAL CREATED\n",
      "A dog is created\n"
     ]
    }
   ],
   "source": [
    "mydog = Dog()"
   ]
  },
  {
   "cell_type": "code",
   "execution_count": 21,
   "id": "67cbabb1",
   "metadata": {},
   "outputs": [
    {
     "name": "stdout",
     "output_type": "stream",
     "text": [
      "I am a dog and im eating pedigree\n"
     ]
    }
   ],
   "source": [
    "mydog.eat() #this is function overriding"
   ]
  },
  {
   "cell_type": "code",
   "execution_count": 22,
   "id": "5ba16b50",
   "metadata": {},
   "outputs": [
    {
     "name": "stdout",
     "output_type": "stream",
     "text": [
      "I WOOOF!\n"
     ]
    }
   ],
   "source": [
    "mydog.bark() #this is method of the child class "
   ]
  },
  {
   "cell_type": "code",
   "execution_count": 23,
   "id": "478d0892",
   "metadata": {},
   "outputs": [],
   "source": [
    "#ABstract CLass implementation"
   ]
  },
  {
   "cell_type": "code",
   "execution_count": 24,
   "id": "9a1db31e",
   "metadata": {},
   "outputs": [],
   "source": [
    "class Animal(): #this is type of class is not instantiated it is just as an template for all other child classes\n",
    "    def __init__(self,name):\n",
    "        self.name = name\n",
    "    def speak(self):\n",
    "        raise NotImplementedError(\"Subclass must implement this abstract method\")"
   ]
  },
  {
   "cell_type": "code",
   "execution_count": 25,
   "id": "32fc5fd1",
   "metadata": {},
   "outputs": [],
   "source": [
    "class Dog(Animal): #this is how you inherit a base class\n",
    "    def speak(self):\n",
    "        return self.name + \" says WOOF!\""
   ]
  },
  {
   "cell_type": "code",
   "execution_count": 26,
   "id": "417a829b",
   "metadata": {},
   "outputs": [],
   "source": [
    "class Cat(Animal): #this is how you inherit a base class\n",
    "    def speak(self):\n",
    "        return self.name + \" says MEOW!\" "
   ]
  },
  {
   "cell_type": "code",
   "execution_count": 28,
   "id": "3cfeca02",
   "metadata": {},
   "outputs": [],
   "source": [
    "yoda = Dog(\"Yoda\")"
   ]
  },
  {
   "cell_type": "code",
   "execution_count": 29,
   "id": "d5ac7d90",
   "metadata": {},
   "outputs": [
    {
     "data": {
      "text/plain": [
       "'Yoda says WOOF!'"
      ]
     },
     "execution_count": 29,
     "metadata": {},
     "output_type": "execute_result"
    }
   ],
   "source": [
    "yoda.speak()"
   ]
  },
  {
   "cell_type": "code",
   "execution_count": 30,
   "id": "e181f4f1",
   "metadata": {},
   "outputs": [],
   "source": [
    "billi = Cat('billi')"
   ]
  },
  {
   "cell_type": "code",
   "execution_count": 31,
   "id": "2a09b9d3",
   "metadata": {},
   "outputs": [
    {
     "data": {
      "text/plain": [
       "'billi says MEOW!'"
      ]
     },
     "execution_count": 31,
     "metadata": {},
     "output_type": "execute_result"
    }
   ],
   "source": [
    "billi.speak()"
   ]
  },
  {
   "cell_type": "code",
   "execution_count": 32,
   "id": "3ceef9b8",
   "metadata": {},
   "outputs": [],
   "source": [
    "# Special methods of class in python\n",
    "class Book():\n",
    "    def __init__(self, title, author, page):\n",
    "        self.title = title\n",
    "        self.author = author\n",
    "        self.page = page\n",
    "    def __str__(self): # string representation of the class\n",
    "        return f'{self.title} by {self.author}'\n",
    "    def __len__(self): # length representation of the class\n",
    "        return self.page\n",
    "    def __del__(self): # deletes the object of the class\n",
    "        print(\"The object of the Book class has been deleted\")"
   ]
  },
  {
   "cell_type": "code",
   "execution_count": 33,
   "id": "a8929a36",
   "metadata": {},
   "outputs": [],
   "source": [
    "mybook = Book('Harry Potter', 'J.K Rowling', 500)"
   ]
  },
  {
   "cell_type": "code",
   "execution_count": 34,
   "id": "07a4128f",
   "metadata": {},
   "outputs": [
    {
     "data": {
      "text/plain": [
       "'Harry Potter by J.K Rowling'"
      ]
     },
     "execution_count": 34,
     "metadata": {},
     "output_type": "execute_result"
    }
   ],
   "source": [
    "str(mybook)"
   ]
  },
  {
   "cell_type": "code",
   "execution_count": 35,
   "id": "d02b789b",
   "metadata": {},
   "outputs": [
    {
     "data": {
      "text/plain": [
       "500"
      ]
     },
     "execution_count": 35,
     "metadata": {},
     "output_type": "execute_result"
    }
   ],
   "source": [
    "len(mybook)"
   ]
  },
  {
   "cell_type": "code",
   "execution_count": 36,
   "id": "ad2a49ef",
   "metadata": {},
   "outputs": [
    {
     "name": "stdout",
     "output_type": "stream",
     "text": [
      "The object of the Book class has been deleted\n"
     ]
    }
   ],
   "source": [
    "del(mybook)"
   ]
  },
  {
   "cell_type": "code",
   "execution_count": 89,
   "id": "eacaef11",
   "metadata": {},
   "outputs": [],
   "source": [
    "# Homework Problem 1\n",
    "\n",
    "class Cylinder():\n",
    "    pi = 3.14\n",
    "    def __init__(self, radius = 1, height = 3):\n",
    "        self.radius = radius\n",
    "        self.height =height\n",
    "    def surface_area(self):\n",
    "        return (2 * Cylinder.pi * self.radius**2 ) * (self.radius + self.height) \n",
    "    def volume(self):\n",
    "        return self.height * Cylinder.pi * self.radius**2 "
   ]
  },
  {
   "cell_type": "code",
   "execution_count": 90,
   "id": "b456ae85",
   "metadata": {},
   "outputs": [],
   "source": [
    "cyl = Cylinder(3,2)"
   ]
  },
  {
   "cell_type": "code",
   "execution_count": 91,
   "id": "b58a3021",
   "metadata": {},
   "outputs": [
    {
     "data": {
      "text/plain": [
       "282.6"
      ]
     },
     "execution_count": 91,
     "metadata": {},
     "output_type": "execute_result"
    }
   ],
   "source": [
    "cyl.surface_area()"
   ]
  },
  {
   "cell_type": "code",
   "execution_count": 88,
   "id": "77116835",
   "metadata": {},
   "outputs": [
    {
     "data": {
      "text/plain": [
       "56.52"
      ]
     },
     "execution_count": 88,
     "metadata": {},
     "output_type": "execute_result"
    }
   ],
   "source": [
    "cyl.volume()"
   ]
  },
  {
   "cell_type": "code",
   "execution_count": 57,
   "id": "d7737c27",
   "metadata": {},
   "outputs": [],
   "source": [
    "#Homework Problem 2\n",
    "\n",
    "import math\n",
    "class Line():\n",
    "    def __init__(self, coord1, coord2):\n",
    "        self.coord1 = coord1\n",
    "        self.coord2 = coord2\n",
    "    def distance(self):\n",
    "        res = math.sqrt((self.coord2[0]-self.coord1[0])**2 + (self.coord2[1]-self.coord1[1])**2)\n",
    "        return res\n",
    "    def slope(self):\n",
    "        res = (self.coord2[1]-self.coord1[1])/(self.coord2[0]-self.coord1[0])\n",
    "        return res\n",
    "        "
   ]
  },
  {
   "cell_type": "code",
   "execution_count": 61,
   "id": "ec4c63d9",
   "metadata": {},
   "outputs": [],
   "source": [
    "line = Line((3,2),(8,10))"
   ]
  },
  {
   "cell_type": "code",
   "execution_count": 62,
   "id": "106845f9",
   "metadata": {},
   "outputs": [
    {
     "data": {
      "text/plain": [
       "9.433981132056603"
      ]
     },
     "execution_count": 62,
     "metadata": {},
     "output_type": "execute_result"
    }
   ],
   "source": [
    "line.distance()"
   ]
  },
  {
   "cell_type": "code",
   "execution_count": 63,
   "id": "15526d9b",
   "metadata": {},
   "outputs": [
    {
     "data": {
      "text/plain": [
       "1.6"
      ]
     },
     "execution_count": 63,
     "metadata": {},
     "output_type": "execute_result"
    }
   ],
   "source": [
    "line.slope()"
   ]
  },
  {
   "cell_type": "code",
   "execution_count": 104,
   "id": "a3016bb6",
   "metadata": {},
   "outputs": [],
   "source": [
    "#Challenge Problem\n",
    "class BankAccount():\n",
    "    def __init__(self, owner, balance = 0):\n",
    "        self.owner = owner\n",
    "        self.balance = balance\n",
    "    def __str__(self):\n",
    "        return f'Account name : {self.owner}\\nAccount Balance : {self.balance}'\n",
    "    def deposit(self, amount):\n",
    "        self.balance = self.balance + amount\n",
    "        print(f'Your balance after adding {amount} is {self.balance}')\n",
    "    def withdraw(self, amount):\n",
    "        if(amount > self.balance):\n",
    "            print(\"Required funds unavailable!\")\n",
    "        else:\n",
    "            self.balance = self.balance - amount\n",
    "            print(f'Your balance after withdrawal of amount {amount} is {self.balance}')"
   ]
  },
  {
   "cell_type": "code",
   "execution_count": 105,
   "id": "4c44601c",
   "metadata": {},
   "outputs": [],
   "source": [
    "atm = BankAccount('Shubh',1000)"
   ]
  },
  {
   "cell_type": "code",
   "execution_count": 106,
   "id": "b090fd82",
   "metadata": {},
   "outputs": [
    {
     "name": "stdout",
     "output_type": "stream",
     "text": [
      "Account name : Shubh\n",
      "Account Balance : 1000\n"
     ]
    }
   ],
   "source": [
    "print(atm)"
   ]
  },
  {
   "cell_type": "code",
   "execution_count": 107,
   "id": "383971db",
   "metadata": {},
   "outputs": [
    {
     "name": "stdout",
     "output_type": "stream",
     "text": [
      "Your balance after adding 200 is 1200\n"
     ]
    }
   ],
   "source": [
    "atm.deposit(200)"
   ]
  },
  {
   "cell_type": "code",
   "execution_count": 108,
   "id": "166fa405",
   "metadata": {},
   "outputs": [
    {
     "name": "stdout",
     "output_type": "stream",
     "text": [
      "Your balance after withdrawal of amount 400 is 800\n"
     ]
    }
   ],
   "source": [
    "atm.withdraw(400)"
   ]
  },
  {
   "cell_type": "code",
   "execution_count": 109,
   "id": "6c251f4e",
   "metadata": {},
   "outputs": [
    {
     "name": "stdout",
     "output_type": "stream",
     "text": [
      "Required funds unavailable!\n"
     ]
    }
   ],
   "source": [
    "atm.withdraw(1000)"
   ]
  },
  {
   "cell_type": "code",
   "execution_count": null,
   "id": "5d99a894",
   "metadata": {},
   "outputs": [],
   "source": [
    "class Base():\n",
    "    sel"
   ]
  }
 ],
 "metadata": {
  "kernelspec": {
   "display_name": "Python 3 (ipykernel)",
   "language": "python",
   "name": "python3"
  },
  "language_info": {
   "codemirror_mode": {
    "name": "ipython",
    "version": 3
   },
   "file_extension": ".py",
   "mimetype": "text/x-python",
   "name": "python",
   "nbconvert_exporter": "python",
   "pygments_lexer": "ipython3",
   "version": "3.9.7"
  }
 },
 "nbformat": 4,
 "nbformat_minor": 5
}
